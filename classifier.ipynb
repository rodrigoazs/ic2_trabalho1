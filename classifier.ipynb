{
 "cells": [
  {
   "cell_type": "code",
   "execution_count": 1,
   "metadata": {
    "collapsed": true
   },
   "outputs": [],
   "source": [
    "# k-Fold Cross Validation\n",
    "\n",
    "# Importing the libraries\n",
    "import numpy as np\n",
    "import matplotlib.pyplot as plt\n",
    "import pandas as pd\n",
    "\n",
    "# Importing the dataset\n",
    "dataset = pd.read_table('data.txt')\n",
    "X = dataset.values[:,:3]\n",
    "r_y = dataset.values[:,3]\n",
    "y = [1.0 if i == 1 else 0.0 for i in r_y]\n",
    "y = np.array(y)\n",
    "\n",
    "# Feature Scaling\n",
    "from sklearn.preprocessing import StandardScaler\n",
    "sc = StandardScaler()\n",
    "X = sc.fit_transform(X)"
   ]
  },
  {
   "cell_type": "code",
   "execution_count": 5,
   "metadata": {
    "collapsed": false
   },
   "outputs": [],
   "source": [
    "# Applying k-Fold Cross Validation\n",
    "#from imblearn.over_sampling import RandomOverSampler\n",
    "from sklearn.model_selection import StratifiedKFold\n",
    "from sklearn.model_selection import LeaveOneOut\n",
    "# Applying metrics\n",
    "from sklearn.metrics import accuracy_score\n",
    "from sklearn.metrics import log_loss\n",
    "from sklearn.metrics import precision_score"
   ]
  },
  {
   "cell_type": "code",
   "execution_count": 6,
   "metadata": {
    "collapsed": false
   },
   "outputs": [
    {
     "name": "stdout",
     "output_type": "stream",
     "text": [
      "Accuracy\n",
      "Mean:0.763586729363\n",
      "Std:0.0406335848581\n",
      "Precision 1\n",
      "Mean:0.700337470806\n",
      "Std:0.0927077646486\n",
      "Precision 0\n",
      "Mean:0.78760694513\n",
      "Std:0.0308306171335\n",
      "Log Loss\n",
      "Mean:0.499330831712\n",
      "Std:0.0434182538695\n"
     ]
    }
   ],
   "source": [
    "from sklearn.linear_model import LogisticRegression\n",
    "\n",
    "# Logistic Regression\n",
    "accuracies = []\n",
    "log_losses = []\n",
    "precision_1 = []\n",
    "precision_0 = []\n",
    "\n",
    "for i in range(10):\n",
    "    skf = StratifiedKFold(n_splits = 10, shuffle=True)\n",
    "    for train, test in skf.split(X, y):\n",
    "        X_train, X_test, y_train, y_test = X[train], X[test], y[train], y[test]\n",
    "        classifier = LogisticRegression()\n",
    "        classifier.fit(X_train, y_train)\n",
    "        y_pred = classifier.predict(X_test)\n",
    "        y_prob = classifier.predict_proba(X_test)\n",
    "        accuracies.append(accuracy_score(y_test, y_pred))\n",
    "        precision_1.append(precision_score(y_test, y_pred, pos_label=1))\n",
    "        precision_0.append(precision_score(y_test, y_pred, pos_label=0))\n",
    "        log_losses.append(log_loss(y_test, y_prob))\n",
    "\n",
    "print('Accuracy')\n",
    "print('Mean:' + str((np.array(accuracies)).mean()))\n",
    "print('Std:' + str((np.array(accuracies)).std()))\n",
    "print('Precision 1')\n",
    "print('Mean:' + str((np.array(precision_1)).mean()))\n",
    "print('Std:' + str((np.array(precision_1)).std()))\n",
    "print('Precision 0')\n",
    "print('Mean:' + str((np.array(precision_0)).mean()))\n",
    "print('Std:' + str((np.array(precision_0)).std()))\n",
    "print('Log Loss')\n",
    "print('Mean:' + str((np.array(log_losses)).mean()))\n",
    "print('Std:' + str((np.array(log_losses)).std()))"
   ]
  },
  {
   "cell_type": "code",
   "execution_count": 8,
   "metadata": {
    "collapsed": false
   },
   "outputs": [
    {
     "name": "stdout",
     "output_type": "stream",
     "text": [
      "Accuracy\n",
      "Mean:0.73940830721\n",
      "Std:0.0410954916226\n",
      "Precision 1\n",
      "Mean:0.634325571451\n",
      "Std:0.0819389157608\n",
      "Precision 0\n",
      "Mean:0.781898582715\n",
      "Std:0.0295963471122\n",
      "Log Loss\n",
      "Mean:0.610145251334\n",
      "Std:0.162693799109\n"
     ]
    }
   ],
   "source": [
    "from sklearn.ensemble import RandomForestClassifier\n",
    "\n",
    "# RandomForest Classifier Proba\n",
    "accuracies = []\n",
    "precision_1 = []\n",
    "precision_0 = []\n",
    "log_losses = []\n",
    "\n",
    "for i in range(10):\n",
    "    skf = StratifiedKFold(n_splits = 10, shuffle=True)\n",
    "    for train, test in skf.split(X, y):\n",
    "        X_train, X_test, y_train, y_test = X[train], X[test], y[train], y[test]\n",
    "        classifier = RandomForestClassifier(n_estimators=100)\n",
    "        classifier.fit(X_train, y_train)\n",
    "        y_pred = classifier.predict(X_test)\n",
    "        y_prob = classifier.predict_proba(X_test)\n",
    "        accuracies.append(accuracy_score(y_test, y_pred))\n",
    "        precision_1.append(precision_score(y_test, y_pred, pos_label=1))\n",
    "        precision_0.append(precision_score(y_test, y_pred, pos_label=0))\n",
    "        log_losses.append(log_loss(y_test, y_prob))\n",
    "\n",
    "print('Accuracy')\n",
    "print('Mean:' + str((np.array(accuracies)).mean()))\n",
    "print('Std:' + str((np.array(accuracies)).std()))\n",
    "print('Precision 1')\n",
    "print('Mean:' + str((np.array(precision_1)).mean()))\n",
    "print('Std:' + str((np.array(precision_1)).std()))\n",
    "print('Precision 0')\n",
    "print('Mean:' + str((np.array(precision_0)).mean()))\n",
    "print('Std:' + str((np.array(precision_0)).std()))\n",
    "print('Log Loss')\n",
    "print('Mean:' + str((np.array(log_losses)).mean()))\n",
    "print('Std:' + str((np.array(log_losses)).std()))"
   ]
  },
  {
   "cell_type": "code",
   "execution_count": 9,
   "metadata": {
    "collapsed": false
   },
   "outputs": [
    {
     "name": "stdout",
     "output_type": "stream",
     "text": [
      "Accuracy\n",
      "Mean:0.731950104493\n",
      "Std:0.0451358450069\n",
      "Precision 1\n",
      "Mean:0.627021994301\n",
      "Std:0.0902791977131\n",
      "Precision 0\n",
      "Mean:0.770186541997\n",
      "Std:0.0344192643607\n",
      "Log Loss\n",
      "Mean:1.50602361132\n",
      "Std:0.674368153953\n"
     ]
    }
   ],
   "source": [
    "from sklearn.ensemble import RandomForestClassifier\n",
    "\n",
    "# RandomForest Classifier Proba 10 arvores\n",
    "accuracies = []\n",
    "precision_1 = []\n",
    "precision_0 = []\n",
    "log_losses = []\n",
    "\n",
    "for i in range(10):\n",
    "    skf = StratifiedKFold(n_splits = 10, shuffle=True)\n",
    "    for train, test in skf.split(X, y):\n",
    "        X_train, X_test, y_train, y_test = X[train], X[test], y[train], y[test]\n",
    "        classifier = RandomForestClassifier(n_estimators=10)\n",
    "        classifier.fit(X_train, y_train)\n",
    "        y_pred = classifier.predict(X_test)\n",
    "        y_prob = classifier.predict_proba(X_test)\n",
    "        accuracies.append(accuracy_score(y_test, y_pred))\n",
    "        precision_1.append(precision_score(y_test, y_pred, pos_label=1))\n",
    "        precision_0.append(precision_score(y_test, y_pred, pos_label=0))\n",
    "        log_losses.append(log_loss(y_test, y_prob))\n",
    "\n",
    "print('Accuracy')\n",
    "print('Mean:' + str((np.array(accuracies)).mean()))\n",
    "print('Std:' + str((np.array(accuracies)).std()))\n",
    "print('Precision 1')\n",
    "print('Mean:' + str((np.array(precision_1)).mean()))\n",
    "print('Std:' + str((np.array(precision_1)).std()))\n",
    "print('Precision 0')\n",
    "print('Mean:' + str((np.array(precision_0)).mean()))\n",
    "print('Std:' + str((np.array(precision_0)).std()))\n",
    "print('Log Loss')\n",
    "print('Mean:' + str((np.array(log_losses)).mean()))\n",
    "print('Std:' + str((np.array(log_losses)).std()))"
   ]
  },
  {
   "cell_type": "code",
   "execution_count": 15,
   "metadata": {
    "collapsed": false
   },
   "outputs": [
    {
     "name": "stdout",
     "output_type": "stream",
     "text": [
      "Mean:nan\n",
      "Std:nan\n",
      "Log Loss\n",
      "Mean:0.73423247103\n",
      "Std:0.320294418836\n"
     ]
    },
    {
     "name": "stderr",
     "output_type": "stream",
     "text": [
      "/home/rodrigo/anaconda/lib/python3.5/site-packages/ipykernel/__main__.py:29: RuntimeWarning: Mean of empty slice.\n",
      "/home/rodrigo/anaconda/lib/python3.5/site-packages/numpy/core/_methods.py:80: RuntimeWarning: invalid value encountered in double_scalars\n",
      "  ret = ret.dtype.type(ret / rcount)\n",
      "/home/rodrigo/anaconda/lib/python3.5/site-packages/numpy/core/_methods.py:135: RuntimeWarning: Degrees of freedom <= 0 for slice\n",
      "  keepdims=keepdims)\n",
      "/home/rodrigo/anaconda/lib/python3.5/site-packages/numpy/core/_methods.py:105: RuntimeWarning: invalid value encountered in true_divide\n",
      "  arrmean, rcount, out=arrmean, casting='unsafe', subok=False)\n",
      "/home/rodrigo/anaconda/lib/python3.5/site-packages/numpy/core/_methods.py:127: RuntimeWarning: invalid value encountered in double_scalars\n",
      "  ret = ret.dtype.type(ret / rcount)\n"
     ]
    }
   ],
   "source": [
    "from sklearn.ensemble import RandomForestRegressor\n",
    "\n",
    "# RandomForest Regressor\n",
    "accuracies = []\n",
    "precision_1 = []\n",
    "precision_0 = []\n",
    "log_losses = []\n",
    "\n",
    "for i in range(10):\n",
    "    skf = StratifiedKFold(n_splits = 10, shuffle=True)\n",
    "    for train, test in skf.split(X, y):\n",
    "        X_train, X_test, y_train, y_test = X[train], X[test], y[train], y[test]\n",
    "        classifier = RandomForestRegressor(n_estimators=100)\n",
    "        classifier.fit(X_train, y_train)\n",
    "        y_prob = classifier.predict(X_test)\n",
    "        #y_prob = classifier.predict_proba(X_test)\n",
    "        #accuracies.append(accuracy_score(y_test, y_pred))\n",
    "        #precision_1.append(precision_score(y_test, y_pred, pos_label=1))\n",
    "        #precision_0.append(precision_score(y_test, y_pred, pos_label=0))\n",
    "        log_losses.append(log_loss(y_test, y_prob))\n",
    "\n",
    "#print('Accuracy')\n",
    "#print('Mean:' + str((np.array(accuracies)).mean()))\n",
    "#print('Std:' + str((np.array(accuracies)).std()))\n",
    "#print('Precision 1')\n",
    "#print('Mean:' + str((np.array(precision_1)).mean()))\n",
    "#print('Std:' + str((np.array(precision_1)).std()))\n",
    "#print('Precision 0')\n",
    "print('Mean:' + str((np.array(precision_0)).mean()))\n",
    "print('Std:' + str((np.array(precision_0)).std()))\n",
    "print('Log Loss')\n",
    "print('Mean:' + str((np.array(log_losses)).mean()))\n",
    "print('Std:' + str((np.array(log_losses)).std()))"
   ]
  },
  {
   "cell_type": "code",
   "execution_count": 16,
   "metadata": {
    "collapsed": false
   },
   "outputs": [
    {
     "name": "stdout",
     "output_type": "stream",
     "text": [
      "Mean:nan\n",
      "Std:nan\n",
      "Log Loss\n",
      "Mean:2.03531856591\n",
      "Std:0.774988313977\n"
     ]
    },
    {
     "name": "stderr",
     "output_type": "stream",
     "text": [
      "/home/rodrigo/anaconda/lib/python3.5/site-packages/ipykernel/__main__.py:29: RuntimeWarning: Mean of empty slice.\n",
      "/home/rodrigo/anaconda/lib/python3.5/site-packages/numpy/core/_methods.py:80: RuntimeWarning: invalid value encountered in double_scalars\n",
      "  ret = ret.dtype.type(ret / rcount)\n",
      "/home/rodrigo/anaconda/lib/python3.5/site-packages/numpy/core/_methods.py:135: RuntimeWarning: Degrees of freedom <= 0 for slice\n",
      "  keepdims=keepdims)\n",
      "/home/rodrigo/anaconda/lib/python3.5/site-packages/numpy/core/_methods.py:105: RuntimeWarning: invalid value encountered in true_divide\n",
      "  arrmean, rcount, out=arrmean, casting='unsafe', subok=False)\n",
      "/home/rodrigo/anaconda/lib/python3.5/site-packages/numpy/core/_methods.py:127: RuntimeWarning: invalid value encountered in double_scalars\n",
      "  ret = ret.dtype.type(ret / rcount)\n"
     ]
    }
   ],
   "source": [
    "from sklearn.neighbors import KNeighborsRegressor\n",
    "\n",
    "# RandomForest Regressor\n",
    "accuracies = []\n",
    "precision_1 = []\n",
    "precision_0 = []\n",
    "log_losses = []\n",
    "\n",
    "for i in range(10):\n",
    "    skf = StratifiedKFold(n_splits = 10, shuffle=True)\n",
    "    for train, test in skf.split(X, y):\n",
    "        X_train, X_test, y_train, y_test = X[train], X[test], y[train], y[test]\n",
    "        classifier = KNeighborsRegressor(n_neighbors=5)\n",
    "        classifier.fit(X_train, y_train)\n",
    "        y_prob = classifier.predict(X_test)\n",
    "        #y_prob = classifier.predict_proba(X_test)\n",
    "        #accuracies.append(accuracy_score(y_test, y_pred))\n",
    "        #precision_1.append(precision_score(y_test, y_pred, pos_label=1))\n",
    "        #precision_0.append(precision_score(y_test, y_pred, pos_label=0))\n",
    "        log_losses.append(log_loss(y_test, y_prob))\n",
    "\n",
    "#print('Accuracy')\n",
    "#print('Mean:' + str((np.array(accuracies)).mean()))\n",
    "#print('Std:' + str((np.array(accuracies)).std()))\n",
    "#print('Precision 1')\n",
    "#print('Mean:' + str((np.array(precision_1)).mean()))\n",
    "#print('Std:' + str((np.array(precision_1)).std()))\n",
    "#print('Precision 0')\n",
    "print('Mean:' + str((np.array(precision_0)).mean()))\n",
    "print('Std:' + str((np.array(precision_0)).std()))\n",
    "print('Log Loss')\n",
    "print('Mean:' + str((np.array(log_losses)).mean()))\n",
    "print('Std:' + str((np.array(log_losses)).std()))"
   ]
  },
  {
   "cell_type": "code",
   "execution_count": 19,
   "metadata": {
    "collapsed": false
   },
   "outputs": [
    {
     "name": "stdout",
     "output_type": "stream",
     "text": [
      "Mean:nan\n",
      "Std:nan\n",
      "Log Loss\n",
      "Mean:0.502671628721\n",
      "Std:0.0363030712132\n"
     ]
    },
    {
     "name": "stderr",
     "output_type": "stream",
     "text": [
      "/home/rodrigo/anaconda/lib/python3.5/site-packages/ipykernel/__main__.py:29: RuntimeWarning: Mean of empty slice.\n",
      "/home/rodrigo/anaconda/lib/python3.5/site-packages/numpy/core/_methods.py:80: RuntimeWarning: invalid value encountered in double_scalars\n",
      "  ret = ret.dtype.type(ret / rcount)\n",
      "/home/rodrigo/anaconda/lib/python3.5/site-packages/numpy/core/_methods.py:135: RuntimeWarning: Degrees of freedom <= 0 for slice\n",
      "  keepdims=keepdims)\n",
      "/home/rodrigo/anaconda/lib/python3.5/site-packages/numpy/core/_methods.py:105: RuntimeWarning: invalid value encountered in true_divide\n",
      "  arrmean, rcount, out=arrmean, casting='unsafe', subok=False)\n",
      "/home/rodrigo/anaconda/lib/python3.5/site-packages/numpy/core/_methods.py:127: RuntimeWarning: invalid value encountered in double_scalars\n",
      "  ret = ret.dtype.type(ret / rcount)\n"
     ]
    }
   ],
   "source": [
    "from sklearn.neighbors import KNeighborsRegressor\n",
    "\n",
    "# RandomForest Regressor\n",
    "accuracies = []\n",
    "precision_1 = []\n",
    "precision_0 = []\n",
    "log_losses = []\n",
    "\n",
    "for i in range(10):\n",
    "    skf = StratifiedKFold(n_splits = 10, shuffle=True)\n",
    "    for train, test in skf.split(X, y):\n",
    "        X_train, X_test, y_train, y_test = X[train], X[test], y[train], y[test]\n",
    "        classifier = KNeighborsRegressor(n_neighbors=100)\n",
    "        classifier.fit(X_train, y_train)\n",
    "        y_prob = classifier.predict(X_test)\n",
    "        #y_prob = classifier.predict_proba(X_test)\n",
    "        #accuracies.append(accuracy_score(y_test, y_pred))\n",
    "        #precision_1.append(precision_score(y_test, y_pred, pos_label=1))\n",
    "        #precision_0.append(precision_score(y_test, y_pred, pos_label=0))\n",
    "        log_losses.append(log_loss(y_test, y_prob))\n",
    "\n",
    "#print('Accuracy')\n",
    "#print('Mean:' + str((np.array(accuracies)).mean()))\n",
    "#print('Std:' + str((np.array(accuracies)).std()))\n",
    "#print('Precision 1')\n",
    "#print('Mean:' + str((np.array(precision_1)).mean()))\n",
    "#print('Std:' + str((np.array(precision_1)).std()))\n",
    "#print('Precision 0')\n",
    "print('Mean:' + str((np.array(precision_0)).mean()))\n",
    "print('Std:' + str((np.array(precision_0)).std()))\n",
    "print('Log Loss')\n",
    "print('Mean:' + str((np.array(log_losses)).mean()))\n",
    "print('Std:' + str((np.array(log_losses)).std()))"
   ]
  },
  {
   "cell_type": "code",
   "execution_count": 21,
   "metadata": {
    "collapsed": false
   },
   "outputs": [
    {
     "name": "stdout",
     "output_type": "stream",
     "text": [
      "Mean:nan\n",
      "Std:nan\n",
      "Log Loss\n",
      "Mean:0.569737228294\n",
      "Std:0.185511702196\n"
     ]
    },
    {
     "name": "stderr",
     "output_type": "stream",
     "text": [
      "/home/rodrigo/anaconda/lib/python3.5/site-packages/ipykernel/__main__.py:29: RuntimeWarning: Mean of empty slice.\n",
      "/home/rodrigo/anaconda/lib/python3.5/site-packages/numpy/core/_methods.py:80: RuntimeWarning: invalid value encountered in double_scalars\n",
      "  ret = ret.dtype.type(ret / rcount)\n",
      "/home/rodrigo/anaconda/lib/python3.5/site-packages/numpy/core/_methods.py:135: RuntimeWarning: Degrees of freedom <= 0 for slice\n",
      "  keepdims=keepdims)\n",
      "/home/rodrigo/anaconda/lib/python3.5/site-packages/numpy/core/_methods.py:105: RuntimeWarning: invalid value encountered in true_divide\n",
      "  arrmean, rcount, out=arrmean, casting='unsafe', subok=False)\n",
      "/home/rodrigo/anaconda/lib/python3.5/site-packages/numpy/core/_methods.py:127: RuntimeWarning: invalid value encountered in double_scalars\n",
      "  ret = ret.dtype.type(ret / rcount)\n"
     ]
    }
   ],
   "source": [
    "from sklearn.neighbors import KNeighborsRegressor\n",
    "\n",
    "# RandomForest Regressor\n",
    "accuracies = []\n",
    "precision_1 = []\n",
    "precision_0 = []\n",
    "log_losses = []\n",
    "\n",
    "for i in range(10):\n",
    "    skf = StratifiedKFold(n_splits = 10, shuffle=True)\n",
    "    for train, test in skf.split(X, y):\n",
    "        X_train, X_test, y_train, y_test = X[train], X[test], y[train], y[test]\n",
    "        classifier = KNeighborsRegressor(n_neighbors=50)\n",
    "        classifier.fit(X_train, y_train)\n",
    "        y_prob = classifier.predict(X_test)\n",
    "        #y_prob = classifier.predict_proba(X_test)\n",
    "        #accuracies.append(accuracy_score(y_test, y_pred))\n",
    "        #precision_1.append(precision_score(y_test, y_pred, pos_label=1))\n",
    "        #precision_0.append(precision_score(y_test, y_pred, pos_label=0))\n",
    "        log_losses.append(log_loss(y_test, y_prob))\n",
    "\n",
    "#print('Accuracy')\n",
    "#print('Mean:' + str((np.array(accuracies)).mean()))\n",
    "#print('Std:' + str((np.array(accuracies)).std()))\n",
    "#print('Precision 1')\n",
    "#print('Mean:' + str((np.array(precision_1)).mean()))\n",
    "#print('Std:' + str((np.array(precision_1)).std()))\n",
    "#print('Precision 0')\n",
    "print('Mean:' + str((np.array(precision_0)).mean()))\n",
    "print('Std:' + str((np.array(precision_0)).std()))\n",
    "print('Log Loss')\n",
    "print('Mean:' + str((np.array(log_losses)).mean()))\n",
    "print('Std:' + str((np.array(log_losses)).std()))"
   ]
  },
  {
   "cell_type": "code",
   "execution_count": 23,
   "metadata": {
    "collapsed": false
   },
   "outputs": [
    {
     "name": "stdout",
     "output_type": "stream",
     "text": [
      "Mean:nan\n",
      "Std:nan\n",
      "Log Loss\n",
      "Mean:0.499613891314\n",
      "Std:0.0458849867937\n"
     ]
    },
    {
     "name": "stderr",
     "output_type": "stream",
     "text": [
      "/home/rodrigo/anaconda/lib/python3.5/site-packages/ipykernel/__main__.py:29: RuntimeWarning: Mean of empty slice.\n",
      "/home/rodrigo/anaconda/lib/python3.5/site-packages/numpy/core/_methods.py:80: RuntimeWarning: invalid value encountered in double_scalars\n",
      "  ret = ret.dtype.type(ret / rcount)\n",
      "/home/rodrigo/anaconda/lib/python3.5/site-packages/numpy/core/_methods.py:135: RuntimeWarning: Degrees of freedom <= 0 for slice\n",
      "  keepdims=keepdims)\n",
      "/home/rodrigo/anaconda/lib/python3.5/site-packages/numpy/core/_methods.py:105: RuntimeWarning: invalid value encountered in true_divide\n",
      "  arrmean, rcount, out=arrmean, casting='unsafe', subok=False)\n",
      "/home/rodrigo/anaconda/lib/python3.5/site-packages/numpy/core/_methods.py:127: RuntimeWarning: invalid value encountered in double_scalars\n",
      "  ret = ret.dtype.type(ret / rcount)\n"
     ]
    }
   ],
   "source": [
    "from sklearn.neighbors import KNeighborsRegressor\n",
    "\n",
    "# RandomForest Regressor\n",
    "accuracies = []\n",
    "precision_1 = []\n",
    "precision_0 = []\n",
    "log_losses = []\n",
    "\n",
    "for i in range(10):\n",
    "    skf = StratifiedKFold(n_splits = 10, shuffle=True)\n",
    "    for train, test in skf.split(X, y):\n",
    "        X_train, X_test, y_train, y_test = X[train], X[test], y[train], y[test]\n",
    "        classifier = KNeighborsRegressor(n_neighbors=60)\n",
    "        classifier.fit(X_train, y_train)\n",
    "        y_prob = classifier.predict(X_test)\n",
    "        #y_prob = classifier.predict_proba(X_test)\n",
    "        #accuracies.append(accuracy_score(y_test, y_pred))\n",
    "        #precision_1.append(precision_score(y_test, y_pred, pos_label=1))\n",
    "        #precision_0.append(precision_score(y_test, y_pred, pos_label=0))\n",
    "        log_losses.append(log_loss(y_test, y_prob))\n",
    "\n",
    "#print('Accuracy')\n",
    "#print('Mean:' + str((np.array(accuracies)).mean()))\n",
    "#print('Std:' + str((np.array(accuracies)).std()))\n",
    "#print('Precision 1')\n",
    "#print('Mean:' + str((np.array(precision_1)).mean()))\n",
    "#print('Std:' + str((np.array(precision_1)).std()))\n",
    "#print('Precision 0')\n",
    "print('Mean:' + str((np.array(precision_0)).mean()))\n",
    "print('Std:' + str((np.array(precision_0)).std()))\n",
    "print('Log Loss')\n",
    "print('Mean:' + str((np.array(log_losses)).mean()))\n",
    "print('Std:' + str((np.array(log_losses)).std()))"
   ]
  },
  {
   "cell_type": "code",
   "execution_count": 24,
   "metadata": {
    "collapsed": false
   },
   "outputs": [
    {
     "name": "stdout",
     "output_type": "stream",
     "text": [
      "Accuracy\n",
      "Mean:0.743625914316\n",
      "Std:0.0462547863131\n",
      "Precision 1\n",
      "Mean:0.634109091577\n",
      "Std:0.0866712663298\n",
      "Precision 0\n",
      "Mean:0.789812081183\n",
      "Std:0.0399834060066\n",
      "Log Loss\n",
      "Mean:2.06513546466\n",
      "Std:0.742933642952\n"
     ]
    }
   ],
   "source": [
    "from sklearn.neighbors import KNeighborsClassifier\n",
    "\n",
    "# RandomForest Classifier Proba 10 arvores\n",
    "accuracies = []\n",
    "precision_1 = []\n",
    "precision_0 = []\n",
    "log_losses = []\n",
    "\n",
    "for i in range(10):\n",
    "    skf = StratifiedKFold(n_splits = 10, shuffle=True)\n",
    "    for train, test in skf.split(X, y):\n",
    "        X_train, X_test, y_train, y_test = X[train], X[test], y[train], y[test]\n",
    "        classifier = KNeighborsClassifier(n_neighbors=5)\n",
    "        classifier.fit(X_train, y_train)\n",
    "        y_pred = classifier.predict(X_test)\n",
    "        y_prob = classifier.predict_proba(X_test)\n",
    "        accuracies.append(accuracy_score(y_test, y_pred))\n",
    "        precision_1.append(precision_score(y_test, y_pred, pos_label=1))\n",
    "        precision_0.append(precision_score(y_test, y_pred, pos_label=0))\n",
    "        log_losses.append(log_loss(y_test, y_prob))\n",
    "\n",
    "print('Accuracy')\n",
    "print('Mean:' + str((np.array(accuracies)).mean()))\n",
    "print('Std:' + str((np.array(accuracies)).std()))\n",
    "print('Precision 1')\n",
    "print('Mean:' + str((np.array(precision_1)).mean()))\n",
    "print('Std:' + str((np.array(precision_1)).std()))\n",
    "print('Precision 0')\n",
    "print('Mean:' + str((np.array(precision_0)).mean()))\n",
    "print('Std:' + str((np.array(precision_0)).std()))\n",
    "print('Log Loss')\n",
    "print('Mean:' + str((np.array(log_losses)).mean()))\n",
    "print('Std:' + str((np.array(log_losses)).std()))"
   ]
  },
  {
   "cell_type": "code",
   "execution_count": 25,
   "metadata": {
    "collapsed": false
   },
   "outputs": [
    {
     "name": "stdout",
     "output_type": "stream",
     "text": [
      "Accuracy\n",
      "Mean:0.741351880878\n",
      "Std:0.0412602826437\n",
      "Precision 1\n",
      "Mean:0.678066548469\n",
      "Std:0.107866621115\n",
      "Precision 0\n",
      "Mean:0.761787847054\n",
      "Std:0.0292295316255\n",
      "Log Loss\n",
      "Mean:1.02687083922\n",
      "Std:0.509688125399\n"
     ]
    }
   ],
   "source": [
    "from sklearn.neighbors import KNeighborsClassifier\n",
    "\n",
    "# RandomForest Classifier Proba 10 arvores\n",
    "accuracies = []\n",
    "precision_1 = []\n",
    "precision_0 = []\n",
    "log_losses = []\n",
    "\n",
    "for i in range(10):\n",
    "    skf = StratifiedKFold(n_splits = 10, shuffle=True)\n",
    "    for train, test in skf.split(X, y):\n",
    "        X_train, X_test, y_train, y_test = X[train], X[test], y[train], y[test]\n",
    "        classifier = KNeighborsClassifier(n_neighbors=10)\n",
    "        classifier.fit(X_train, y_train)\n",
    "        y_pred = classifier.predict(X_test)\n",
    "        y_prob = classifier.predict_proba(X_test)\n",
    "        accuracies.append(accuracy_score(y_test, y_pred))\n",
    "        precision_1.append(precision_score(y_test, y_pred, pos_label=1))\n",
    "        precision_0.append(precision_score(y_test, y_pred, pos_label=0))\n",
    "        log_losses.append(log_loss(y_test, y_prob))\n",
    "\n",
    "print('Accuracy')\n",
    "print('Mean:' + str((np.array(accuracies)).mean()))\n",
    "print('Std:' + str((np.array(accuracies)).std()))\n",
    "print('Precision 1')\n",
    "print('Mean:' + str((np.array(precision_1)).mean()))\n",
    "print('Std:' + str((np.array(precision_1)).std()))\n",
    "print('Precision 0')\n",
    "print('Mean:' + str((np.array(precision_0)).mean()))\n",
    "print('Std:' + str((np.array(precision_0)).std()))\n",
    "print('Log Loss')\n",
    "print('Mean:' + str((np.array(log_losses)).mean()))\n",
    "print('Std:' + str((np.array(log_losses)).std()))"
   ]
  },
  {
   "cell_type": "code",
   "execution_count": 35,
   "metadata": {
    "collapsed": false
   },
   "outputs": [
    {
     "name": "stdout",
     "output_type": "stream",
     "text": [
      "Accuracy\n",
      "Mean:0.747202194357\n",
      "Std:0.0401366584078\n",
      "Precision 1\n",
      "Mean:0.667949321112\n",
      "Std:0.0906502005048\n",
      "Precision 0\n",
      "Mean:0.776779702972\n",
      "Std:0.0335054297453\n",
      "Log Loss\n",
      "Mean:0.501311403932\n",
      "Std:0.0487741105876\n"
     ]
    }
   ],
   "source": [
    "from sklearn.neighbors import KNeighborsClassifier\n",
    "\n",
    "# RandomForest Classifier Proba 10 arvores\n",
    "accuracies = []\n",
    "precision_1 = []\n",
    "precision_0 = []\n",
    "log_losses = []\n",
    "\n",
    "for i in range(10):\n",
    "    skf = StratifiedKFold(n_splits = 10, shuffle=True)\n",
    "    for train, test in skf.split(X, y):\n",
    "        X_train, X_test, y_train, y_test = X[train], X[test], y[train], y[test]\n",
    "        classifier = KNeighborsClassifier(n_neighbors=72)\n",
    "        classifier.fit(X_train, y_train)\n",
    "        y_pred = classifier.predict(X_test)\n",
    "        y_prob = classifier.predict_proba(X_test)\n",
    "        accuracies.append(accuracy_score(y_test, y_pred))\n",
    "        precision_1.append(precision_score(y_test, y_pred, pos_label=1))\n",
    "        precision_0.append(precision_score(y_test, y_pred, pos_label=0))\n",
    "        log_losses.append(log_loss(y_test, y_prob))\n",
    "\n",
    "print('Accuracy')\n",
    "print('Mean:' + str((np.array(accuracies)).mean()))\n",
    "print('Std:' + str((np.array(accuracies)).std()))\n",
    "print('Precision 1')\n",
    "print('Mean:' + str((np.array(precision_1)).mean()))\n",
    "print('Std:' + str((np.array(precision_1)).std()))\n",
    "print('Precision 0')\n",
    "print('Mean:' + str((np.array(precision_0)).mean()))\n",
    "print('Std:' + str((np.array(precision_0)).std()))\n",
    "print('Log Loss')\n",
    "print('Mean:' + str((np.array(log_losses)).mean()))\n",
    "print('Std:' + str((np.array(log_losses)).std()))"
   ]
  },
  {
   "cell_type": "code",
   "execution_count": 42,
   "metadata": {
    "collapsed": false
   },
   "outputs": [
    {
     "name": "stderr",
     "output_type": "stream",
     "text": [
      "/home/rodrigo/anaconda/lib/python3.5/site-packages/sklearn/neural_network/multilayer_perceptron.py:564: ConvergenceWarning: Stochastic Optimizer: Maximum iterations (200) reached and the optimization hasn't converged yet.\n",
      "  % self.max_iter, ConvergenceWarning)\n"
     ]
    },
    {
     "name": "stdout",
     "output_type": "stream",
     "text": [
      "Log Loss\n",
      "Mean:1.01420618673\n",
      "Std:0.629717813713\n"
     ]
    }
   ],
   "source": [
    "from sklearn.neural_network import MLPRegressor\n",
    "\n",
    "# RandomForest Classifier Proba 10 arvores\n",
    "accuracies = []\n",
    "precision_1 = []\n",
    "precision_0 = []\n",
    "log_losses = []\n",
    "\n",
    "for i in range(10):\n",
    "    skf = StratifiedKFold(n_splits = 10, shuffle=True)\n",
    "    for train, test in skf.split(X, y):\n",
    "        X_train, X_test, y_train, y_test = X[train], X[test], y[train], y[test]\n",
    "        classifier = MLPRegressor(hidden_layer_sizes=(6, ))\n",
    "        classifier.out_activation_ = 'logistic'\n",
    "        classifier.fit(X_train, y_train)\n",
    "        y_prob = classifier.predict(X_test)\n",
    "        #y_prob = classifier.predict_proba(X_test)\n",
    "        #accuracies.append(accuracy_score(y_test, y_pred))\n",
    "        #precision_1.append(precision_score(y_test, y_pred, pos_label=1))\n",
    "        #precision_0.append(precision_score(y_test, y_pred, pos_label=0))\n",
    "        log_losses.append(log_loss(y_test, y_prob))\n",
    "\n",
    "#print('Accuracy')\n",
    "#print('Mean:' + str((np.array(accuracies)).mean()))\n",
    "#print('Std:' + str((np.array(accuracies)).std()))\n",
    "#print('Precision 1')\n",
    "#print('Mean:' + str((np.array(precision_1)).mean()))\n",
    "#print('Std:' + str((np.array(precision_1)).std()))\n",
    "#print('Precision 0')\n",
    "#print('Mean:' + str((np.array(precision_0)).mean()))\n",
    "#print('Std:' + str((np.array(precision_0)).std()))\n",
    "print('Log Loss')\n",
    "print('Mean:' + str((np.array(log_losses)).mean()))\n",
    "print('Std:' + str((np.array(log_losses)).std()))"
   ]
  },
  {
   "cell_type": "code",
   "execution_count": 44,
   "metadata": {
    "collapsed": false
   },
   "outputs": [
    {
     "name": "stdout",
     "output_type": "stream",
     "text": [
      "Log Loss\n",
      "Mean:11.6945909633\n",
      "Std:1.64776885385\n"
     ]
    }
   ],
   "source": [
    "from sklearn.svm import SVC\n",
    "\n",
    "# RandomForest Classifier Proba 10 arvores\n",
    "accuracies = []\n",
    "precision_1 = []\n",
    "precision_0 = []\n",
    "log_losses = []\n",
    "\n",
    "for i in range(10):\n",
    "    skf = StratifiedKFold(n_splits = 10, shuffle=True)\n",
    "    for train, test in skf.split(X, y):\n",
    "        X_train, X_test, y_train, y_test = X[train], X[test], y[train], y[test]\n",
    "        classifier = SVC(probability=True, kernel='sigmoid')\n",
    "        classifier.fit(X_train, y_train)\n",
    "        y_prob = classifier.predict(X_test)\n",
    "        #y_prob = classifier.predict_proba(X_test)\n",
    "        #accuracies.append(accuracy_score(y_test, y_pred))\n",
    "        #precision_1.append(precision_score(y_test, y_pred, pos_label=1))\n",
    "        #precision_0.append(precision_score(y_test, y_pred, pos_label=0))\n",
    "        log_losses.append(log_loss(y_test, y_prob))\n",
    "\n",
    "#print('Accuracy')\n",
    "#print('Mean:' + str((np.array(accuracies)).mean()))\n",
    "#print('Std:' + str((np.array(accuracies)).std()))\n",
    "#print('Precision 1')\n",
    "#print('Mean:' + str((np.array(precision_1)).mean()))\n",
    "#print('Std:' + str((np.array(precision_1)).std()))\n",
    "#print('Precision 0')\n",
    "#print('Mean:' + str((np.array(precision_0)).mean()))\n",
    "#print('Std:' + str((np.array(precision_0)).std()))\n",
    "print('Log Loss')\n",
    "print('Mean:' + str((np.array(log_losses)).mean()))\n",
    "print('Std:' + str((np.array(log_losses)).std()))"
   ]
  },
  {
   "cell_type": "code",
   "execution_count": 53,
   "metadata": {
    "collapsed": false
   },
   "outputs": [
    {
     "name": "stdout",
     "output_type": "stream",
     "text": [
      "Accuracy\n",
      "Mean:0.761097178683\n",
      "Std:0.0374549938713\n",
      "Precision 1\n",
      "Mean:0.692947106674\n",
      "Std:0.0817494116209\n",
      "Precision 0\n",
      "Mean:0.785610421232\n",
      "Std:0.0299304075909\n",
      "Log Loss Eout\n",
      "Mean:0.4997627706\n",
      "Std:0.0464986130751\n",
      "Log Loss Ein\n",
      "Mean:0.495281806528\n",
      "Std:0.00518479112053\n"
     ]
    }
   ],
   "source": [
    "from sklearn.linear_model import LogisticRegression\n",
    "\n",
    "# Logistic Regression\n",
    "accuracies = []\n",
    "log_losses = []\n",
    "log_losses_in = []\n",
    "precision_1 = []\n",
    "precision_0 = []\n",
    "\n",
    "for i in range(10):\n",
    "    skf = StratifiedKFold(n_splits = 10, shuffle=True)\n",
    "    for train, test in skf.split(X, y):\n",
    "        X_train, X_test, y_train, y_test = X[train], X[test], y[train], y[test]\n",
    "        classifier = LogisticRegression(penalty=\"l2\")\n",
    "        classifier.fit(X_train, y_train)\n",
    "        y_pred = classifier.predict(X_test)\n",
    "        y_prob = classifier.predict_proba(X_test)\n",
    "        accuracies.append(accuracy_score(y_test, y_pred))\n",
    "        precision_1.append(precision_score(y_test, y_pred, pos_label=1))\n",
    "        precision_0.append(precision_score(y_test, y_pred, pos_label=0))\n",
    "        log_losses.append(log_loss(y_test, y_prob))\n",
    "        log_losses_in.append(log_loss(y_train, classifier.predict_proba(X_train)))\n",
    "        #print('\\nLogisticRegression coefficients:')\n",
    "        #print(classifier.coef_.tolist()[0])\n",
    "\n",
    "print('Accuracy')\n",
    "print('Mean:' + str((np.array(accuracies)).mean()))\n",
    "print('Std:' + str((np.array(accuracies)).std()))\n",
    "print('Precision 1')\n",
    "print('Mean:' + str((np.array(precision_1)).mean()))\n",
    "print('Std:' + str((np.array(precision_1)).std()))\n",
    "print('Precision 0')\n",
    "print('Mean:' + str((np.array(precision_0)).mean()))\n",
    "print('Std:' + str((np.array(precision_0)).std()))\n",
    "print('Log Loss Eout')\n",
    "print('Mean:' + str((np.array(log_losses)).mean()))\n",
    "print('Std:' + str((np.array(log_losses)).std()))\n",
    "print('Log Loss Ein')\n",
    "print('Mean:' + str((np.array(log_losses_in)).mean()))\n",
    "print('Std:' + str((np.array(log_losses_in)).std()))"
   ]
  },
  {
   "cell_type": "code",
   "execution_count": null,
   "metadata": {
    "collapsed": true
   },
   "outputs": [],
   "source": []
  }
 ],
 "metadata": {
  "anaconda-cloud": {},
  "kernelspec": {
   "display_name": "Python [conda root]",
   "language": "python",
   "name": "conda-root-py"
  },
  "language_info": {
   "codemirror_mode": {
    "name": "ipython",
    "version": 3
   },
   "file_extension": ".py",
   "mimetype": "text/x-python",
   "name": "python",
   "nbconvert_exporter": "python",
   "pygments_lexer": "ipython3",
   "version": "3.5.2"
  }
 },
 "nbformat": 4,
 "nbformat_minor": 1
}
