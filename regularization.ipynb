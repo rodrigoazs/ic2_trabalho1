{
 "cells": [
  {
   "cell_type": "code",
   "execution_count": 1,
   "metadata": {
    "collapsed": true
   },
   "outputs": [],
   "source": [
    "# k-Fold Cross Validation\n",
    "\n",
    "# Importing the libraries\n",
    "import numpy as np\n",
    "import matplotlib.pyplot as plt\n",
    "import pandas as pd\n",
    "\n",
    "# Importing the dataset\n",
    "dataset = pd.read_table('data.txt')\n",
    "X = dataset.values[:,:3]\n",
    "r_y = dataset.values[:,3]\n",
    "y = [1.0 if i == 1 else 0.0 for i in r_y]\n",
    "y = np.array(y)\n",
    "\n",
    "# Feature Scaling\n",
    "from sklearn.preprocessing import StandardScaler\n",
    "sc = StandardScaler()\n",
    "X = sc.fit_transform(X)\n",
    "\n",
    "# Oversampling\n",
    "#ros = RandomOverSampler()\n",
    "#X, y = ros.fit_sample(X, y)\n"
   ]
  },
  {
   "cell_type": "code",
   "execution_count": null,
   "metadata": {
    "collapsed": false
   },
   "outputs": [
    {
     "name": "stdout",
     "output_type": "stream",
     "text": [
      "Calculado ... 56.00%. Tempo execução: 37.0 segundos. Tempo restante estimado: 29.0 segundos"
     ]
    }
   ],
   "source": [
    "import time\n",
    "import sys\n",
    "\n",
    "def display_time(seconds, granularity=2):\n",
    "    result = []\n",
    "    intervals = (\n",
    "    ('semanas', 604800),  # 60 * 60 * 24 * 7\n",
    "    ('dias', 86400),    # 60 * 60 * 24\n",
    "    ('horas', 3600),    # 60 * 60\n",
    "    ('minutos', 60),\n",
    "    ('segundos', 1),\n",
    "    )\n",
    "\n",
    "    for name, count in intervals:\n",
    "        value = seconds // count\n",
    "        if value:\n",
    "            seconds -= value * count\n",
    "            if value == 1:\n",
    "                name = name.rstrip('s')\n",
    "            result.append(\"{} {}\".format(value, name))\n",
    "    return ', '.join(result[:granularity])\n",
    "\n",
    "from sklearn.linear_model import LogisticRegression\n",
    "from sklearn.neural_network import MLPClassifier\n",
    "from sklearn.metrics import accuracy_score\n",
    "from sklearn.metrics import mean_squared_error\n",
    "from sklearn.metrics import log_loss\n",
    "from sklearn.metrics import precision_score\n",
    "\n",
    "# Applying k-Fold Cross Validation\n",
    "#from imblearn.over_sampling import RandomOverSampler\n",
    "from sklearn.model_selection import StratifiedKFold\n",
    "from sklearn.model_selection import LeaveOneOut\n",
    "\n",
    "# regularization\n",
    "reg = np.linspace(0.00000001, 10000000000.0, num=50)\n",
    "\n",
    "total_tasks = 50\n",
    "tasks_count = 0\n",
    "last_time = 0\n",
    "start_time = time.time()\n",
    "\n",
    "reg_accuracies = []\n",
    "reg_log_losses = []\n",
    "reg_mse = []\n",
    "reg_precision_1 = []\n",
    "reg_precision_0 = []\n",
    "\n",
    "for r in range(len(reg)):\n",
    "    # Logistic Regression\n",
    "    accuracies = []\n",
    "    log_losses = []\n",
    "    mse = []\n",
    "    precision_1 = []\n",
    "    precision_0 = []\n",
    "\n",
    "    for i in range(10):\n",
    "        skf = StratifiedKFold(n_splits = 10, shuffle=True)\n",
    "        for train, test in skf.split(X, y):\n",
    "            X_train, X_test, y_train, y_test = X[train], X[test], y[train], y[test]\n",
    "            #c_reg = 1/reg[r]\n",
    "            classifier = LogisticRegression(C = reg[r])\n",
    "            #classifier = MLPClassifier(hidden_layer_sizes=(5,), alpha=reg[r])\n",
    "            classifier.fit(X_train, y_train)\n",
    "            y_pred = classifier.predict(X_test)\n",
    "            y_prob = classifier.predict_proba(X_test)\n",
    "            accuracies.append(accuracy_score(y_test, y_pred))\n",
    "            precision_1.append(precision_score(y_test, y_pred, pos_label=1))\n",
    "            precision_0.append(precision_score(y_test, y_pred, pos_label=0))\n",
    "            log_losses.append(log_loss(y_test, y_prob))\n",
    "            mse.append(mean_squared_error(y_test, y_prob[:, 1]))\n",
    "\n",
    "    reg_accuracies.append((np.array(accuracies)).mean())\n",
    "    reg_precision_1.append((np.array(precision_1)).mean())\n",
    "    reg_precision_0.append((np.array(precision_0)).mean())\n",
    "    reg_log_losses.append((np.array(log_losses)).mean())\n",
    "    reg_mse.append((np.array(mse)).mean())\n",
    "    \n",
    "    tasks_count += 1\n",
    "    last_time = time.time()\n",
    "    exec_time = last_time - start_time\n",
    "    remaining_time = (total_tasks - tasks_count) * (exec_time) / tasks_count\n",
    "    sys.stdout.write(\"\\rCalculado ... %.2f%%. Tempo execução: %s. Tempo restante estimado: %s\" % (((100.0 * tasks_count / total_tasks)), display_time(last_time - start_time), display_time(remaining_time)))\n",
    "    sys.stdout.flush()\n"
   ]
  },
  {
   "cell_type": "code",
   "execution_count": 3,
   "metadata": {
    "collapsed": false
   },
   "outputs": [
    {
     "data": {
      "text/plain": [
       "[0.6866413703663008,\n",
       " 0.5064788091285799,\n",
       " 0.50094199429720232,\n",
       " 0.50073694361603449,\n",
       " 0.49996211162964571,\n",
       " 0.49964801308408885,\n",
       " 0.49974843186917739,\n",
       " 0.49947793080180708,\n",
       " 0.5002758915519594,\n",
       " 0.4995309852140582,\n",
       " 0.49939179766752623,\n",
       " 0.49966697864284093,\n",
       " 0.49948215784154215,\n",
       " 0.49936244243664019,\n",
       " 0.49959221188249459,\n",
       " 0.49920417666548766,\n",
       " 0.49966769316698839,\n",
       " 0.49888985204474856,\n",
       " 0.49974276060594286,\n",
       " 0.49901468823452161,\n",
       " 0.49956385088413763,\n",
       " 0.50020525634171031,\n",
       " 0.499378350088301,\n",
       " 0.49985677638499743,\n",
       " 0.4997367020772211,\n",
       " 0.49935710678918127,\n",
       " 0.4992806454722315,\n",
       " 0.49924625719432414,\n",
       " 0.49981190045506863,\n",
       " 0.4996769243686694,\n",
       " 0.49995087382791098,\n",
       " 0.49947412284767512,\n",
       " 0.49980575405849387,\n",
       " 0.49997774523478022,\n",
       " 0.49987743053398392,\n",
       " 0.49958990206412629,\n",
       " 0.4995947594472645,\n",
       " 0.49931097285500475,\n",
       " 0.49917058979239498,\n",
       " 0.49946392737580653,\n",
       " 0.49992281203049133,\n",
       " 0.50029699773621283,\n",
       " 0.49973483108426064,\n",
       " 0.49984059335532344,\n",
       " 0.49940659753987987,\n",
       " 0.4996748111806123,\n",
       " 0.49916473419252966,\n",
       " 0.50010961475081972,\n",
       " 0.5002384764931459,\n",
       " 0.49959814588543372]"
      ]
     },
     "execution_count": 3,
     "metadata": {},
     "output_type": "execute_result"
    }
   ],
   "source": [
    "reg_log_losses"
   ]
  },
  {
   "cell_type": "code",
   "execution_count": 5,
   "metadata": {
    "collapsed": false
   },
   "outputs": [
    {
     "name": "stderr",
     "output_type": "stream",
     "text": [
      "/home/rodrigo/anaconda/lib/python3.5/site-packages/matplotlib/axes/_axes.py:545: UserWarning: No labelled objects found. Use label='...' kwarg on individual plots.\n",
      "  warnings.warn(\"No labelled objects found. \"\n"
     ]
    },
    {
     "data": {
      "image/png": "[encoded data removed]",
      "text/plain": [
       "<matplotlib.figure.Figure at 0x7f4c6cda0d68>"
      ]
     },
     "metadata": {},
     "output_type": "display_data"
    }
   ],
   "source": [
    "rec_x = np.arange(0, 1.1, 0.1)\n",
    "\n",
    "plt.plot(reg, reg_log_losses)\n",
    "\n",
    "plt.xlim([0.0, 2.0])\n",
    "plt.ylim([0.5, 0.7])\n",
    "plt.xlabel('alpha')\n",
    "plt.ylabel('Precision')\n",
    "plt.title(\"Curva de Precision-Recall interpolado em 11 níveis\")\n",
    "plt.legend(loc='upper right')\n",
    "plt.show()"
   ]
  },
  {
   "cell_type": "code",
   "execution_count": null,
   "metadata": {
    "collapsed": true
   },
   "outputs": [],
   "source": []
  }
 ],
 "metadata": {
  "anaconda-cloud": {},
  "kernelspec": {
   "display_name": "Python [conda root]",
   "language": "python",
   "name": "conda-root-py"
  },
  "language_info": {
   "codemirror_mode": {
    "name": "ipython",
    "version": 3
   },
   "file_extension": ".py",
   "mimetype": "text/x-python",
   "name": "python",
   "nbconvert_exporter": "python",
   "pygments_lexer": "ipython3",
   "version": "3.5.2"
  }
 },
 "nbformat": 4,
 "nbformat_minor": 1
}
