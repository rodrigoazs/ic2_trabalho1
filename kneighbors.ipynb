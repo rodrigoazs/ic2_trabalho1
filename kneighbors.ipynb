{
 "cells": [
  {
   "cell_type": "code",
   "execution_count": 1,
   "metadata": {
    "collapsed": false
   },
   "outputs": [
    {
     "name": "stdout",
     "output_type": "stream",
     "text": [
      "Calculado ... 100.00%. Tempo execução: 1.0 minuto, 3.0 segundos. Tempo restante estimado: "
     ]
    }
   ],
   "source": [
    "# k-Fold Cross Validation\n",
    "\n",
    "# Importing the libraries\n",
    "import numpy as np\n",
    "import matplotlib.pyplot as plt\n",
    "import pandas as pd\n",
    "\n",
    "import time\n",
    "import sys\n",
    "\n",
    "def display_time(seconds, granularity=2):\n",
    "    result = []\n",
    "    intervals = (\n",
    "    ('semanas', 604800),  # 60 * 60 * 24 * 7\n",
    "    ('dias', 86400),    # 60 * 60 * 24\n",
    "    ('horas', 3600),    # 60 * 60\n",
    "    ('minutos', 60),\n",
    "    ('segundos', 1),\n",
    "    )\n",
    "\n",
    "    for name, count in intervals:\n",
    "        value = seconds // count\n",
    "        if value:\n",
    "            seconds -= value * count\n",
    "            if value == 1:\n",
    "                name = name.rstrip('s')\n",
    "            result.append(\"{} {}\".format(value, name))\n",
    "    return ', '.join(result[:granularity])\n",
    "\n",
    "# Importing the dataset\n",
    "dataset = pd.read_table('data.txt')\n",
    "X = dataset.values[:,:3]\n",
    "r_y = dataset.values[:,3]\n",
    "y = [1.0 if i == 1 else 0.0 for i in r_y]\n",
    "y = np.array(y)\n",
    "\n",
    "# Feature Scaling\n",
    "from sklearn.preprocessing import StandardScaler\n",
    "sc = StandardScaler()\n",
    "X = sc.fit_transform(X)\n",
    "\n",
    "# Applying k-Fold Cross Validation\n",
    "#from imblearn.over_sampling import RandomOverSampler\n",
    "from sklearn.model_selection import StratifiedKFold\n",
    "from sklearn.model_selection import LeaveOneOut\n",
    "# Applying metrics\n",
    "from sklearn.metrics import accuracy_score\n",
    "from sklearn.metrics import log_loss\n",
    "from sklearn.metrics import precision_score\n",
    "\n",
    "from sklearn.neighbors import KNeighborsRegressor\n",
    "\n",
    "total_tasks = 100\n",
    "tasks_count = 0\n",
    "last_time = 0\n",
    "start_time = time.time()\n",
    "\n",
    "k_log_losses = []\n",
    "\n",
    "for k in range(total_tasks):\n",
    "    log_losses = []\n",
    "\n",
    "    for i in range(10):\n",
    "        skf = StratifiedKFold(n_splits = 10, shuffle=True)\n",
    "        for train, test in skf.split(X, y):\n",
    "            X_train, X_test, y_train, y_test = X[train], X[test], y[train], y[test]\n",
    "            classifier = KNeighborsRegressor(n_neighbors=k+1)\n",
    "            classifier.fit(X_train, y_train)\n",
    "            y_prob = classifier.predict(X_test)\n",
    "            log_losses.append(log_loss(y_test, y_prob))\n",
    "    k_log_losses.append((np.array(log_losses)).mean())\n",
    "    \n",
    "    tasks_count += 1\n",
    "    last_time = time.time()\n",
    "    exec_time = last_time - start_time\n",
    "    remaining_time = (total_tasks - tasks_count) * (exec_time) / tasks_count\n",
    "    sys.stdout.write(\"\\rCalculado ... %.2f%%. Tempo execução: %s. Tempo restante estimado: %s\" % (((100.0 * tasks_count / total_tasks)), display_time(last_time - start_time), display_time(remaining_time)))\n",
    "    sys.stdout.flush()"
   ]
  },
  {
   "cell_type": "code",
   "execution_count": 15,
   "metadata": {
    "collapsed": false
   },
   "outputs": [
    {
     "name": "stderr",
     "output_type": "stream",
     "text": [
      "/home/rodrigo/anaconda/lib/python3.5/site-packages/matplotlib/axes/_axes.py:545: UserWarning: No labelled objects found. Use label='...' kwarg on individual plots.\n",
      "  warnings.warn(\"No labelled objects found. \"\n"
     ]
    },
    {
     "data": {
      "image/png": "[encoded data removed]",
      "text/plain": [
       "<matplotlib.figure.Figure at 0x7fcd477af358>"
      ]
     },
     "metadata": {},
     "output_type": "display_data"
    }
   ],
   "source": [
    "reg = np.arange(1, total_tasks+1)\n",
    "\n",
    "plt.plot(reg, k_log_losses)\n",
    "\n",
    "#plt.xlim([0.0, 2.0])\n",
    "#plt.ylim([0.5, 0.7])\n",
    "plt.xlabel('k-Vizinhos')\n",
    "plt.ylabel('Erro esperado, $E_{out}$')\n",
    "plt.title(\"Curva de erro por k-vizinhos\")\n",
    "plt.legend(loc='upper right')\n",
    "plt.show()"
   ]
  },
  {
   "cell_type": "code",
   "execution_count": 2,
   "metadata": {
    "collapsed": false
   },
   "outputs": [
    {
     "data": {
      "text/plain": [
       "[11.030425819659904,\n",
       " 5.5778454119636329,\n",
       " 3.5622572180284791,\n",
       " 2.5887419592914669,\n",
       " 2.0055598514044757,\n",
       " 1.6629148291698073,\n",
       " 1.4908541907944981,\n",
       " 1.3006096824487168,\n",
       " 1.1837877947567059,\n",
       " 1.0097562392863662,\n",
       " 0.9360500361202051,\n",
       " 0.90488949405113583,\n",
       " 0.86119417590835201,\n",
       " 0.7801364221806163,\n",
       " 0.75937105742032573,\n",
       " 0.74268032079519641,\n",
       " 0.70279326349911986,\n",
       " 0.68697357778598789,\n",
       " 0.69156908127314209,\n",
       " 0.66276093925436685,\n",
       " 0.63795451113715862,\n",
       " 0.62166503281991636,\n",
       " 0.6393540391379583,\n",
       " 0.63728355562699013,\n",
       " 0.63147162760008113,\n",
       " 0.61719371756298225,\n",
       " 0.61599305319480802,\n",
       " 0.61426332575157738,\n",
       " 0.61301782379000636,\n",
       " 0.62056993503327396,\n",
       " 0.62115342274636187,\n",
       " 0.61316281404297024,\n",
       " 0.62760028234280474,\n",
       " 0.62208301191970272,\n",
       " 0.62822344007079556,\n",
       " 0.62500861123648221,\n",
       " 0.60289481171318204,\n",
       " 0.61179342879268428,\n",
       " 0.61054233383011336,\n",
       " 0.59177843637941185,\n",
       " 0.58648961876320971,\n",
       " 0.57930470507555332,\n",
       " 0.57642113008151696,\n",
       " 0.57182593584157193,\n",
       " 0.5757179619955245,\n",
       " 0.5717665073081567,\n",
       " 0.57233802560398384,\n",
       " 0.56839865297582792,\n",
       " 0.56772934060175861,\n",
       " 0.56658900534641088,\n",
       " 0.54931050777155621,\n",
       " 0.54561146305875907,\n",
       " 0.5328053448554434,\n",
       " 0.53556719062504787,\n",
       " 0.51476832304143827,\n",
       " 0.50447095539925357,\n",
       " 0.50820151205934727,\n",
       " 0.50197751012499725,\n",
       " 0.50553532849750571,\n",
       " 0.50341559639418487,\n",
       " 0.50269078282336488,\n",
       " 0.5141041651345547,\n",
       " 0.49893925790687044,\n",
       " 0.50683888854274473,\n",
       " 0.50653089967344445,\n",
       " 0.50366473087890573,\n",
       " 0.49988476148126026,\n",
       " 0.50147718737311531,\n",
       " 0.50379470794992387,\n",
       " 0.49877454226355261,\n",
       " 0.49999618033851606,\n",
       " 0.50147471371902119,\n",
       " 0.50067221074972357,\n",
       " 0.50122569506343073,\n",
       " 0.50023533559551436,\n",
       " 0.50104620262367527,\n",
       " 0.50217298042834391,\n",
       " 0.50152372062817285,\n",
       " 0.5023447130453853,\n",
       " 0.50171215405797021,\n",
       " 0.50264960642770651,\n",
       " 0.50326005223195325,\n",
       " 0.50312527696202047,\n",
       " 0.5019193500097423,\n",
       " 0.50343443262406584,\n",
       " 0.50338974488840948,\n",
       " 0.50265535931069694,\n",
       " 0.50105676979769587,\n",
       " 0.50203992204774761,\n",
       " 0.50230778824218891,\n",
       " 0.50332783378936508,\n",
       " 0.50213431434688272,\n",
       " 0.50293087284066462,\n",
       " 0.50303143944345141,\n",
       " 0.50272344715708028,\n",
       " 0.50327014864526276,\n",
       " 0.50319150715962957,\n",
       " 0.50281259797926448,\n",
       " 0.50306719354420504,\n",
       " 0.50300780441116766]"
      ]
     },
     "execution_count": 2,
     "metadata": {},
     "output_type": "execute_result"
    }
   ],
   "source": [
    "k_log_losses"
   ]
  },
  {
   "cell_type": "code",
   "execution_count": 4,
   "metadata": {
    "collapsed": false
   },
   "outputs": [],
   "source": [
    "log_min = 999999\n",
    "i_min = 9999\n",
    "for i in range(len(k_log_losses)):\n",
    "    if k_log_losses[i] < log_min:\n",
    "        log_min = k_log_losses[i]\n",
    "        i_min = i"
   ]
  },
  {
   "cell_type": "code",
   "execution_count": 5,
   "metadata": {
    "collapsed": false
   },
   "outputs": [
    {
     "data": {
      "text/plain": [
       "69"
      ]
     },
     "execution_count": 5,
     "metadata": {},
     "output_type": "execute_result"
    }
   ],
   "source": [
    "i_min"
   ]
  },
  {
   "cell_type": "code",
   "execution_count": 6,
   "metadata": {
    "collapsed": false
   },
   "outputs": [
    {
     "data": {
      "text/plain": [
       "0.66276093925436685"
      ]
     },
     "execution_count": 6,
     "metadata": {},
     "output_type": "execute_result"
    }
   ],
   "source": [
    "k_log_losses[19]"
   ]
  },
  {
   "cell_type": "code",
   "execution_count": null,
   "metadata": {
    "collapsed": true
   },
   "outputs": [],
   "source": []
  }
 ],
 "metadata": {
  "anaconda-cloud": {},
  "kernelspec": {
   "display_name": "Python [conda root]",
   "language": "python",
   "name": "conda-root-py"
  },
  "language_info": {
   "codemirror_mode": {
    "name": "ipython",
    "version": 3
   },
   "file_extension": ".py",
   "mimetype": "text/x-python",
   "name": "python",
   "nbconvert_exporter": "python",
   "pygments_lexer": "ipython3",
   "version": "3.5.2"
  }
 },
 "nbformat": 4,
 "nbformat_minor": 1
}
